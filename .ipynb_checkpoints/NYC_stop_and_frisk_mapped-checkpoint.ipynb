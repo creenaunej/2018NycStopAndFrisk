{
 "cells": [
  {
   "cell_type": "code",
   "execution_count": 1,
   "id": "26bb3175",
   "metadata": {},
   "outputs": [],
   "source": [
    "#NYC stop and frisk mapped "
   ]
  },
  {
   "cell_type": "code",
   "execution_count": 44,
   "id": "1a92c274",
   "metadata": {},
   "outputs": [],
   "source": [
    "import os\n",
    "import numpy as np\n",
    "import matplotlib.pyplot as plt\n",
    "\n",
    "import pandas as pd\n",
    "import geopandas as gpd\n",
    "import geopandas as geopandas\n",
    "from geopandas import GeoDataFrame\n",
    "from shapely.geometry import Point\n",
    "from shapely.geometry import box\n",
    "from mpl_toolkits.axes_grid1 import make_axes_locatable\n",
    "#import adjustText as aT\n",
    "import missingno as msn #helps with missing data in geo data sets \n",
    "import seaborn as sns\n",
    "import json \n",
    "import geoplot as gplt"
   ]
  },
  {
   "cell_type": "code",
   "execution_count": 3,
   "id": "781dc518",
   "metadata": {
    "scrolled": true
   },
   "outputs": [
    {
     "data": {
      "text/html": [
       "<div>\n",
       "<style scoped>\n",
       "    .dataframe tbody tr th:only-of-type {\n",
       "        vertical-align: middle;\n",
       "    }\n",
       "\n",
       "    .dataframe tbody tr th {\n",
       "        vertical-align: top;\n",
       "    }\n",
       "\n",
       "    .dataframe thead th {\n",
       "        text-align: right;\n",
       "    }\n",
       "</style>\n",
       "<table border=\"1\" class=\"dataframe\">\n",
       "  <thead>\n",
       "    <tr style=\"text-align: right;\">\n",
       "      <th></th>\n",
       "      <th>STOP_FRISK_ID</th>\n",
       "      <th>STOP_FRISK_DATE</th>\n",
       "      <th>Stop Frisk Time</th>\n",
       "      <th>YEAR2</th>\n",
       "      <th>MONTH2</th>\n",
       "      <th>DAY2</th>\n",
       "      <th>STOP_WAS_INITIATED</th>\n",
       "      <th>RECORD_STATUS_CODE</th>\n",
       "      <th>ISSUING_OFFICER_RANK</th>\n",
       "      <th>ISSUING_OFFICER_COMMAND_CODE</th>\n",
       "      <th>...</th>\n",
       "      <th>STOP_LOCATION_SECTOR_CODE</th>\n",
       "      <th>STOP_LOCATION_APARTMENT</th>\n",
       "      <th>STOP_LOCATION_FULL_ADDRESS</th>\n",
       "      <th>STOP_LOCATION_PREMISES_NAME</th>\n",
       "      <th>STOP_LOCATION_STREET_NAME</th>\n",
       "      <th>STOP_LOCATION_X</th>\n",
       "      <th>STOP_LOCATION_Y</th>\n",
       "      <th>STOP_LOCATION_ZIP_CODE</th>\n",
       "      <th>STOP_LOCATION_PATROL_BORO_NAME</th>\n",
       "      <th>STOP_LOCATION_BORO_NAME</th>\n",
       "    </tr>\n",
       "  </thead>\n",
       "  <tbody>\n",
       "    <tr>\n",
       "      <th>0</th>\n",
       "      <td>1</td>\n",
       "      <td>1/1/18</td>\n",
       "      <td>19:04:00</td>\n",
       "      <td>2018</td>\n",
       "      <td>January</td>\n",
       "      <td>Monday</td>\n",
       "      <td>Based on C/W on Scene</td>\n",
       "      <td>APP</td>\n",
       "      <td>POM</td>\n",
       "      <td>1</td>\n",
       "      <td>...</td>\n",
       "      <td>G</td>\n",
       "      <td>(null)</td>\n",
       "      <td>VARICK STREET &amp;&amp; FRANKLIN STREET</td>\n",
       "      <td>(null)</td>\n",
       "      <td>VARICK STREET</td>\n",
       "      <td>982327</td>\n",
       "      <td>201274</td>\n",
       "      <td>(null)</td>\n",
       "      <td>PBMS</td>\n",
       "      <td>MANHATTAN</td>\n",
       "    </tr>\n",
       "    <tr>\n",
       "      <th>1</th>\n",
       "      <td>2</td>\n",
       "      <td>1/1/18</td>\n",
       "      <td>23:00:00</td>\n",
       "      <td>2018</td>\n",
       "      <td>January</td>\n",
       "      <td>Monday</td>\n",
       "      <td>Based on Radio Run</td>\n",
       "      <td>APP</td>\n",
       "      <td>POM</td>\n",
       "      <td>34</td>\n",
       "      <td>...</td>\n",
       "      <td>C</td>\n",
       "      <td>(null)</td>\n",
       "      <td>DYCKMAN STREET &amp;&amp; POST AVENUE</td>\n",
       "      <td>(null)</td>\n",
       "      <td>DYCKMAN STREET</td>\n",
       "      <td>1004892</td>\n",
       "      <td>253548</td>\n",
       "      <td>(null)</td>\n",
       "      <td>PBMN</td>\n",
       "      <td>MANHATTAN</td>\n",
       "    </tr>\n",
       "    <tr>\n",
       "      <th>2</th>\n",
       "      <td>3</td>\n",
       "      <td>1/1/18</td>\n",
       "      <td>23:55:00</td>\n",
       "      <td>2018</td>\n",
       "      <td>January</td>\n",
       "      <td>Monday</td>\n",
       "      <td>Based on Radio Run</td>\n",
       "      <td>APP</td>\n",
       "      <td>POM</td>\n",
       "      <td>808</td>\n",
       "      <td>...</td>\n",
       "      <td>B</td>\n",
       "      <td>4M</td>\n",
       "      <td>2245 RANDALL AVENUE</td>\n",
       "      <td>(null)</td>\n",
       "      <td>RANDALL AVENUE</td>\n",
       "      <td>1026706</td>\n",
       "      <td>237776</td>\n",
       "      <td>(null)</td>\n",
       "      <td>PBBX</td>\n",
       "      <td>BRONX</td>\n",
       "    </tr>\n",
       "  </tbody>\n",
       "</table>\n",
       "<p>3 rows × 83 columns</p>\n",
       "</div>"
      ],
      "text/plain": [
       "   STOP_FRISK_ID STOP_FRISK_DATE Stop Frisk Time  YEAR2   MONTH2    DAY2  \\\n",
       "0              1          1/1/18        19:04:00   2018  January  Monday   \n",
       "1              2          1/1/18        23:00:00   2018  January  Monday   \n",
       "2              3          1/1/18        23:55:00   2018  January  Monday   \n",
       "\n",
       "      STOP_WAS_INITIATED RECORD_STATUS_CODE ISSUING_OFFICER_RANK  \\\n",
       "0  Based on C/W on Scene                APP                  POM   \n",
       "1     Based on Radio Run                APP                  POM   \n",
       "2     Based on Radio Run                APP                  POM   \n",
       "\n",
       "   ISSUING_OFFICER_COMMAND_CODE  ... STOP_LOCATION_SECTOR_CODE  \\\n",
       "0                             1  ...                         G   \n",
       "1                            34  ...                         C   \n",
       "2                           808  ...                         B   \n",
       "\n",
       "   STOP_LOCATION_APARTMENT        STOP_LOCATION_FULL_ADDRESS  \\\n",
       "0                   (null)  VARICK STREET && FRANKLIN STREET   \n",
       "1                   (null)     DYCKMAN STREET && POST AVENUE   \n",
       "2                       4M               2245 RANDALL AVENUE   \n",
       "\n",
       "  STOP_LOCATION_PREMISES_NAME STOP_LOCATION_STREET_NAME STOP_LOCATION_X  \\\n",
       "0                      (null)             VARICK STREET          982327   \n",
       "1                      (null)            DYCKMAN STREET         1004892   \n",
       "2                      (null)            RANDALL AVENUE         1026706   \n",
       "\n",
       "   STOP_LOCATION_Y STOP_LOCATION_ZIP_CODE  STOP_LOCATION_PATROL_BORO_NAME  \\\n",
       "0           201274                 (null)                            PBMS   \n",
       "1           253548                 (null)                            PBMN   \n",
       "2           237776                 (null)                            PBBX   \n",
       "\n",
       "  STOP_LOCATION_BORO_NAME  \n",
       "0               MANHATTAN  \n",
       "1               MANHATTAN  \n",
       "2                   BRONX  \n",
       "\n",
       "[3 rows x 83 columns]"
      ]
     },
     "execution_count": 3,
     "metadata": {},
     "output_type": "execute_result"
    }
   ],
   "source": [
    "StopAndFriskdf = pd.read_csv(\"/Users/jordan/Documents/GitHub/2018NycStopAndFrisk/2018_sqf_database.csv\")\n",
    "\n",
    "#A snapshot of the data.\n",
    "StopAndFriskdf.head(3)"
   ]
  },
  {
   "cell_type": "code",
   "execution_count": 4,
   "id": "6aff3778",
   "metadata": {},
   "outputs": [
    {
     "data": {
      "text/html": [
       "<div>\n",
       "<style scoped>\n",
       "    .dataframe tbody tr th:only-of-type {\n",
       "        vertical-align: middle;\n",
       "    }\n",
       "\n",
       "    .dataframe tbody tr th {\n",
       "        vertical-align: top;\n",
       "    }\n",
       "\n",
       "    .dataframe thead th {\n",
       "        text-align: right;\n",
       "    }\n",
       "</style>\n",
       "<table border=\"1\" class=\"dataframe\">\n",
       "  <thead>\n",
       "    <tr style=\"text-align: right;\">\n",
       "      <th></th>\n",
       "      <th>GEO_ID</th>\n",
       "      <th>STATE</th>\n",
       "      <th>NAME</th>\n",
       "      <th>LSAD</th>\n",
       "      <th>CENSUSAREA</th>\n",
       "      <th>geometry</th>\n",
       "    </tr>\n",
       "  </thead>\n",
       "  <tbody>\n",
       "    <tr>\n",
       "      <th>0</th>\n",
       "      <td>0400000US01</td>\n",
       "      <td>01</td>\n",
       "      <td>Alabama</td>\n",
       "      <td></td>\n",
       "      <td>50645.326</td>\n",
       "      <td>MULTIPOLYGON (((-88.12466 30.28364, -88.08681 ...</td>\n",
       "    </tr>\n",
       "    <tr>\n",
       "      <th>1</th>\n",
       "      <td>0400000US02</td>\n",
       "      <td>02</td>\n",
       "      <td>Alaska</td>\n",
       "      <td></td>\n",
       "      <td>570640.950</td>\n",
       "      <td>MULTIPOLYGON (((-166.10574 53.98861, -166.0752...</td>\n",
       "    </tr>\n",
       "    <tr>\n",
       "      <th>2</th>\n",
       "      <td>0400000US04</td>\n",
       "      <td>04</td>\n",
       "      <td>Arizona</td>\n",
       "      <td></td>\n",
       "      <td>113594.084</td>\n",
       "      <td>POLYGON ((-112.53859 37.00067, -112.53454 37.0...</td>\n",
       "    </tr>\n",
       "    <tr>\n",
       "      <th>3</th>\n",
       "      <td>0400000US05</td>\n",
       "      <td>05</td>\n",
       "      <td>Arkansas</td>\n",
       "      <td></td>\n",
       "      <td>52035.477</td>\n",
       "      <td>POLYGON ((-94.04296 33.01922, -94.04304 33.079...</td>\n",
       "    </tr>\n",
       "    <tr>\n",
       "      <th>4</th>\n",
       "      <td>0400000US06</td>\n",
       "      <td>06</td>\n",
       "      <td>California</td>\n",
       "      <td></td>\n",
       "      <td>155779.220</td>\n",
       "      <td>MULTIPOLYGON (((-122.42144 37.86997, -122.4213...</td>\n",
       "    </tr>\n",
       "  </tbody>\n",
       "</table>\n",
       "</div>"
      ],
      "text/plain": [
       "        GEO_ID STATE        NAME LSAD  CENSUSAREA  \\\n",
       "0  0400000US01    01     Alabama        50645.326   \n",
       "1  0400000US02    02      Alaska       570640.950   \n",
       "2  0400000US04    04     Arizona       113594.084   \n",
       "3  0400000US05    05    Arkansas        52035.477   \n",
       "4  0400000US06    06  California       155779.220   \n",
       "\n",
       "                                            geometry  \n",
       "0  MULTIPOLYGON (((-88.12466 30.28364, -88.08681 ...  \n",
       "1  MULTIPOLYGON (((-166.10574 53.98861, -166.0752...  \n",
       "2  POLYGON ((-112.53859 37.00067, -112.53454 37.0...  \n",
       "3  POLYGON ((-94.04296 33.01922, -94.04304 33.079...  \n",
       "4  MULTIPOLYGON (((-122.42144 37.86997, -122.4213...  "
      ]
     },
     "execution_count": 4,
     "metadata": {},
     "output_type": "execute_result"
    }
   ],
   "source": [
    "country = geopandas.read_file(\"/Users/jordan/Documents/GitHub/geospatial_learning/gz_2010_us_040_00_5m.json\")\n",
    "country.head()"
   ]
  },
  {
   "cell_type": "code",
   "execution_count": 5,
   "id": "7ac5a9dd",
   "metadata": {},
   "outputs": [
    {
     "data": {
      "text/plain": [
       "geopandas.geodataframe.GeoDataFrame"
      ]
     },
     "execution_count": 5,
     "metadata": {},
     "output_type": "execute_result"
    }
   ],
   "source": [
    "#Check the type of data that is contained in this dataframe\n",
    "type(country)"
   ]
  },
  {
   "cell_type": "code",
   "execution_count": 6,
   "id": "2819bd60",
   "metadata": {},
   "outputs": [
    {
     "data": {
      "text/plain": [
       "geopandas.geoseries.GeoSeries"
      ]
     },
     "execution_count": 6,
     "metadata": {},
     "output_type": "execute_result"
    }
   ],
   "source": [
    "#Check the data type of \n",
    "type(country.geometry)"
   ]
  },
  {
   "cell_type": "code",
   "execution_count": 7,
   "id": "60cb4c44",
   "metadata": {},
   "outputs": [
    {
     "data": {
      "text/plain": [
       "shapely.geometry.multipolygon.MultiPolygon"
      ]
     },
     "execution_count": 7,
     "metadata": {},
     "output_type": "execute_result"
    }
   ],
   "source": [
    "type(country.geometry[0])\n"
   ]
  },
  {
   "cell_type": "code",
   "execution_count": 8,
   "id": "eea3e618",
   "metadata": {},
   "outputs": [
    {
     "data": {
      "text/plain": [
       "<AxesSubplot:>"
      ]
     },
     "execution_count": 8,
     "metadata": {},
     "output_type": "execute_result"
    },
    {
     "data": {
      "image/png": "[encoded data removed]",
      "text/plain": [
       "<Figure size 432x288 with 1 Axes>"
      ]
     },
     "metadata": {
      "needs_background": "light"
     },
     "output_type": "display_data"
    }
   ],
   "source": [
    "country.plot()\n"
   ]
  },
  {
   "cell_type": "code",
   "execution_count": 9,
   "id": "13186718",
   "metadata": {
    "scrolled": false
   },
   "outputs": [
    {
     "data": {
      "image/png": "[encoded data removed]",
      "text/plain": [
       "<Figure size 720x360 with 1 Axes>"
      ]
     },
     "metadata": {
      "needs_background": "light"
     },
     "output_type": "display_data"
    }
   ],
   "source": [
    "country[country['NAME'].isin(['New York'])].plot(figsize=(10,5), color='#3B3C6E');"
   ]
  },
  {
   "cell_type": "code",
   "execution_count": 10,
   "id": "50881408",
   "metadata": {},
   "outputs": [],
   "source": [
    "#counties = geopandas.read_file(\"/Users/jordan/Documents/GitHub/geospatial_learning/gz_2010_us_050_00_500k.json\")\n"
   ]
  },
  {
   "cell_type": "code",
   "execution_count": 11,
   "id": "97fa3404",
   "metadata": {},
   "outputs": [],
   "source": [
    "nyc_streets = geopandas.read_file(\"/Users/jordan/Documents/GitHub/geospatial_learning/nyc-streets.geojson.txt\")\n"
   ]
  },
  {
   "cell_type": "code",
   "execution_count": 12,
   "id": "45fe40c0",
   "metadata": {},
   "outputs": [
    {
     "data": {
      "text/html": [
       "<div>\n",
       "<style scoped>\n",
       "    .dataframe tbody tr th:only-of-type {\n",
       "        vertical-align: middle;\n",
       "    }\n",
       "\n",
       "    .dataframe tbody tr th {\n",
       "        vertical-align: top;\n",
       "    }\n",
       "\n",
       "    .dataframe thead th {\n",
       "        text-align: right;\n",
       "    }\n",
       "</style>\n",
       "<table border=\"1\" class=\"dataframe\">\n",
       "  <thead>\n",
       "    <tr style=\"text-align: right;\">\n",
       "      <th></th>\n",
       "      <th>STATEFP</th>\n",
       "      <th>COUNTYFP</th>\n",
       "      <th>LINEARID</th>\n",
       "      <th>FULLNAME</th>\n",
       "      <th>RTTYP</th>\n",
       "      <th>MTFCC</th>\n",
       "      <th>geometry</th>\n",
       "    </tr>\n",
       "  </thead>\n",
       "  <tbody>\n",
       "    <tr>\n",
       "      <th>0</th>\n",
       "      <td>36</td>\n",
       "      <td>005</td>\n",
       "      <td>110391528508</td>\n",
       "      <td>Longwood Ave</td>\n",
       "      <td>M</td>\n",
       "      <td>S1400</td>\n",
       "      <td>MULTILINESTRING ((-73.90002 40.81860, -73.8998...</td>\n",
       "    </tr>\n",
       "    <tr>\n",
       "      <th>1</th>\n",
       "      <td>36</td>\n",
       "      <td>005</td>\n",
       "      <td>110391524085</td>\n",
       "      <td>E 149th St</td>\n",
       "      <td>M</td>\n",
       "      <td>S1400</td>\n",
       "      <td>LINESTRING (-73.91763 40.81605, -73.91677 40.8...</td>\n",
       "    </tr>\n",
       "    <tr>\n",
       "      <th>2</th>\n",
       "      <td>36</td>\n",
       "      <td>005</td>\n",
       "      <td>110391528025</td>\n",
       "      <td>Timpson Pl</td>\n",
       "      <td>M</td>\n",
       "      <td>S1400</td>\n",
       "      <td>LINESTRING (-73.90647 40.80956, -73.90625 40.8...</td>\n",
       "    </tr>\n",
       "    <tr>\n",
       "      <th>3</th>\n",
       "      <td>36</td>\n",
       "      <td>005</td>\n",
       "      <td>110391523563</td>\n",
       "      <td>I- 278</td>\n",
       "      <td>I</td>\n",
       "      <td>S1100</td>\n",
       "      <td>LINESTRING (-73.91863 40.79910, -73.91834 40.7...</td>\n",
       "    </tr>\n",
       "    <tr>\n",
       "      <th>4</th>\n",
       "      <td>36</td>\n",
       "      <td>005</td>\n",
       "      <td>110391524522</td>\n",
       "      <td>Barry St</td>\n",
       "      <td>M</td>\n",
       "      <td>S1400</td>\n",
       "      <td>LINESTRING (-73.89560 40.81168, -73.89539 40.8...</td>\n",
       "    </tr>\n",
       "  </tbody>\n",
       "</table>\n",
       "</div>"
      ],
      "text/plain": [
       "  STATEFP COUNTYFP      LINEARID      FULLNAME RTTYP  MTFCC  \\\n",
       "0      36      005  110391528508  Longwood Ave     M  S1400   \n",
       "1      36      005  110391524085    E 149th St     M  S1400   \n",
       "2      36      005  110391528025    Timpson Pl     M  S1400   \n",
       "3      36      005  110391523563        I- 278     I  S1100   \n",
       "4      36      005  110391524522      Barry St     M  S1400   \n",
       "\n",
       "                                            geometry  \n",
       "0  MULTILINESTRING ((-73.90002 40.81860, -73.8998...  \n",
       "1  LINESTRING (-73.91763 40.81605, -73.91677 40.8...  \n",
       "2  LINESTRING (-73.90647 40.80956, -73.90625 40.8...  \n",
       "3  LINESTRING (-73.91863 40.79910, -73.91834 40.7...  \n",
       "4  LINESTRING (-73.89560 40.81168, -73.89539 40.8...  "
      ]
     },
     "execution_count": 12,
     "metadata": {},
     "output_type": "execute_result"
    }
   ],
   "source": [
    "nyc_streets.head()"
   ]
  },
  {
   "cell_type": "code",
   "execution_count": 13,
   "id": "04a8d92b",
   "metadata": {},
   "outputs": [
    {
     "data": {
      "text/html": [
       "<div>\n",
       "<style scoped>\n",
       "    .dataframe tbody tr th:only-of-type {\n",
       "        vertical-align: middle;\n",
       "    }\n",
       "\n",
       "    .dataframe tbody tr th {\n",
       "        vertical-align: top;\n",
       "    }\n",
       "\n",
       "    .dataframe thead th {\n",
       "        text-align: right;\n",
       "    }\n",
       "</style>\n",
       "<table border=\"1\" class=\"dataframe\">\n",
       "  <thead>\n",
       "    <tr style=\"text-align: right;\">\n",
       "      <th></th>\n",
       "      <th>STOP_FRISK_ID</th>\n",
       "      <th>YEAR2</th>\n",
       "      <th>ISSUING_OFFICER_COMMAND_CODE</th>\n",
       "      <th>SUPERVISING_OFFICER_COMMAND_CODE</th>\n",
       "      <th>OBSERVED_DURATION_MINUTES</th>\n",
       "      <th>STOP_DURATION_MINUTES</th>\n",
       "      <th>STOP_LOCATION_PRECINCT</th>\n",
       "      <th>STOP_LOCATION_X</th>\n",
       "      <th>STOP_LOCATION_Y</th>\n",
       "    </tr>\n",
       "  </thead>\n",
       "  <tbody>\n",
       "    <tr>\n",
       "      <th>count</th>\n",
       "      <td>11008.000000</td>\n",
       "      <td>11008.0</td>\n",
       "      <td>11008.000000</td>\n",
       "      <td>11008.000000</td>\n",
       "      <td>11008.000000</td>\n",
       "      <td>11008.000000</td>\n",
       "      <td>11008.000000</td>\n",
       "      <td>1.100800e+04</td>\n",
       "      <td>11008.000000</td>\n",
       "    </tr>\n",
       "    <tr>\n",
       "      <th>mean</th>\n",
       "      <td>5504.500000</td>\n",
       "      <td>2018.0</td>\n",
       "      <td>183.268350</td>\n",
       "      <td>184.168241</td>\n",
       "      <td>21.647075</td>\n",
       "      <td>11.583757</td>\n",
       "      <td>60.983739</td>\n",
       "      <td>1.004989e+06</td>\n",
       "      <td>207880.290425</td>\n",
       "    </tr>\n",
       "    <tr>\n",
       "      <th>std</th>\n",
       "      <td>3177.880216</td>\n",
       "      <td>0.0</td>\n",
       "      <td>268.829442</td>\n",
       "      <td>268.496744</td>\n",
       "      <td>989.025666</td>\n",
       "      <td>19.137491</td>\n",
       "      <td>32.838054</td>\n",
       "      <td>1.918311e+04</td>\n",
       "      <td>29819.550356</td>\n",
       "    </tr>\n",
       "    <tr>\n",
       "      <th>min</th>\n",
       "      <td>1.000000</td>\n",
       "      <td>2018.0</td>\n",
       "      <td>1.000000</td>\n",
       "      <td>1.000000</td>\n",
       "      <td>0.000000</td>\n",
       "      <td>0.000000</td>\n",
       "      <td>1.000000</td>\n",
       "      <td>9.148030e+05</td>\n",
       "      <td>122284.000000</td>\n",
       "    </tr>\n",
       "    <tr>\n",
       "      <th>25%</th>\n",
       "      <td>2752.750000</td>\n",
       "      <td>2018.0</td>\n",
       "      <td>43.000000</td>\n",
       "      <td>43.000000</td>\n",
       "      <td>1.000000</td>\n",
       "      <td>5.000000</td>\n",
       "      <td>34.000000</td>\n",
       "      <td>9.947050e+05</td>\n",
       "      <td>184335.000000</td>\n",
       "    </tr>\n",
       "    <tr>\n",
       "      <th>50%</th>\n",
       "      <td>5504.500000</td>\n",
       "      <td>2018.0</td>\n",
       "      <td>73.000000</td>\n",
       "      <td>75.000000</td>\n",
       "      <td>1.000000</td>\n",
       "      <td>8.000000</td>\n",
       "      <td>62.000000</td>\n",
       "      <td>1.003550e+06</td>\n",
       "      <td>207011.000000</td>\n",
       "    </tr>\n",
       "    <tr>\n",
       "      <th>75%</th>\n",
       "      <td>8256.250000</td>\n",
       "      <td>2018.0</td>\n",
       "      <td>113.000000</td>\n",
       "      <td>113.000000</td>\n",
       "      <td>2.000000</td>\n",
       "      <td>15.000000</td>\n",
       "      <td>83.000000</td>\n",
       "      <td>1.014981e+06</td>\n",
       "      <td>235551.000000</td>\n",
       "    </tr>\n",
       "    <tr>\n",
       "      <th>max</th>\n",
       "      <td>11008.000000</td>\n",
       "      <td>2018.0</td>\n",
       "      <td>879.000000</td>\n",
       "      <td>881.000000</td>\n",
       "      <td>99999.000000</td>\n",
       "      <td>999.000000</td>\n",
       "      <td>123.000000</td>\n",
       "      <td>1.065899e+06</td>\n",
       "      <td>271349.000000</td>\n",
       "    </tr>\n",
       "  </tbody>\n",
       "</table>\n",
       "</div>"
      ],
      "text/plain": [
       "       STOP_FRISK_ID    YEAR2  ISSUING_OFFICER_COMMAND_CODE  \\\n",
       "count   11008.000000  11008.0                  11008.000000   \n",
       "mean     5504.500000   2018.0                    183.268350   \n",
       "std      3177.880216      0.0                    268.829442   \n",
       "min         1.000000   2018.0                      1.000000   \n",
       "25%      2752.750000   2018.0                     43.000000   \n",
       "50%      5504.500000   2018.0                     73.000000   \n",
       "75%      8256.250000   2018.0                    113.000000   \n",
       "max     11008.000000   2018.0                    879.000000   \n",
       "\n",
       "       SUPERVISING_OFFICER_COMMAND_CODE  OBSERVED_DURATION_MINUTES  \\\n",
       "count                      11008.000000               11008.000000   \n",
       "mean                         184.168241                  21.647075   \n",
       "std                          268.496744                 989.025666   \n",
       "min                            1.000000                   0.000000   \n",
       "25%                           43.000000                   1.000000   \n",
       "50%                           75.000000                   1.000000   \n",
       "75%                          113.000000                   2.000000   \n",
       "max                          881.000000               99999.000000   \n",
       "\n",
       "       STOP_DURATION_MINUTES  STOP_LOCATION_PRECINCT  STOP_LOCATION_X  \\\n",
       "count           11008.000000            11008.000000     1.100800e+04   \n",
       "mean               11.583757               60.983739     1.004989e+06   \n",
       "std                19.137491               32.838054     1.918311e+04   \n",
       "min                 0.000000                1.000000     9.148030e+05   \n",
       "25%                 5.000000               34.000000     9.947050e+05   \n",
       "50%                 8.000000               62.000000     1.003550e+06   \n",
       "75%                15.000000               83.000000     1.014981e+06   \n",
       "max               999.000000              123.000000     1.065899e+06   \n",
       "\n",
       "       STOP_LOCATION_Y  \n",
       "count     11008.000000  \n",
       "mean     207880.290425  \n",
       "std       29819.550356  \n",
       "min      122284.000000  \n",
       "25%      184335.000000  \n",
       "50%      207011.000000  \n",
       "75%      235551.000000  \n",
       "max      271349.000000  "
      ]
     },
     "execution_count": 13,
     "metadata": {},
     "output_type": "execute_result"
    }
   ],
   "source": [
    "StopAndFriskdf.describe()"
   ]
  },
  {
   "cell_type": "code",
   "execution_count": 14,
   "id": "54606a5d",
   "metadata": {},
   "outputs": [],
   "source": [
    "#Find geocoordinates for police precincts \n",
    "#match number of stop and frisks for each police precinct "
   ]
  },
  {
   "cell_type": "code",
   "execution_count": 15,
   "id": "ae186cf9",
   "metadata": {},
   "outputs": [],
   "source": [
    "#Geocoordinates for police precincts \n",
    "police_pre = geopandas.read_file(\"/Users/jordan/Documents/GitHub/2018NycStopAndFrisk/NYC_Police_Precincts.geojson\")\n",
    "\n"
   ]
  },
  {
   "cell_type": "code",
   "execution_count": 16,
   "id": "ec6143a0",
   "metadata": {},
   "outputs": [
    {
     "data": {
      "text/html": [
       "<div>\n",
       "<style scoped>\n",
       "    .dataframe tbody tr th:only-of-type {\n",
       "        vertical-align: middle;\n",
       "    }\n",
       "\n",
       "    .dataframe tbody tr th {\n",
       "        vertical-align: top;\n",
       "    }\n",
       "\n",
       "    .dataframe thead th {\n",
       "        text-align: right;\n",
       "    }\n",
       "</style>\n",
       "<table border=\"1\" class=\"dataframe\">\n",
       "  <thead>\n",
       "    <tr style=\"text-align: right;\">\n",
       "      <th></th>\n",
       "      <th>OBJECTID</th>\n",
       "      <th>Precinct</th>\n",
       "      <th>SHAPE_Length</th>\n",
       "      <th>SHAPE_Area</th>\n",
       "      <th>geometry</th>\n",
       "    </tr>\n",
       "  </thead>\n",
       "  <tbody>\n",
       "    <tr>\n",
       "      <th>0</th>\n",
       "      <td>1</td>\n",
       "      <td>1</td>\n",
       "      <td>0.259319</td>\n",
       "      <td>0.000468</td>\n",
       "      <td>MULTIPOLYGON (((-74.04388 40.69020, -74.04351 ...</td>\n",
       "    </tr>\n",
       "    <tr>\n",
       "      <th>1</th>\n",
       "      <td>2</td>\n",
       "      <td>5</td>\n",
       "      <td>0.058732</td>\n",
       "      <td>0.000179</td>\n",
       "      <td>MULTIPOLYGON (((-73.98864 40.72294, -73.98869 ...</td>\n",
       "    </tr>\n",
       "    <tr>\n",
       "      <th>2</th>\n",
       "      <td>3</td>\n",
       "      <td>6</td>\n",
       "      <td>0.087053</td>\n",
       "      <td>0.000219</td>\n",
       "      <td>MULTIPOLYGON (((-73.99969 40.73856, -73.99684 ...</td>\n",
       "    </tr>\n",
       "    <tr>\n",
       "      <th>3</th>\n",
       "      <td>4</td>\n",
       "      <td>7</td>\n",
       "      <td>0.055191</td>\n",
       "      <td>0.000182</td>\n",
       "      <td>MULTIPOLYGON (((-73.97346 40.71897, -73.97351 ...</td>\n",
       "    </tr>\n",
       "    <tr>\n",
       "      <th>4</th>\n",
       "      <td>5</td>\n",
       "      <td>9</td>\n",
       "      <td>0.064562</td>\n",
       "      <td>0.000212</td>\n",
       "      <td>MULTIPOLYGON (((-73.97161 40.72673, -73.97163 ...</td>\n",
       "    </tr>\n",
       "  </tbody>\n",
       "</table>\n",
       "</div>"
      ],
      "text/plain": [
       "   OBJECTID  Precinct  SHAPE_Length  SHAPE_Area  \\\n",
       "0         1         1      0.259319    0.000468   \n",
       "1         2         5      0.058732    0.000179   \n",
       "2         3         6      0.087053    0.000219   \n",
       "3         4         7      0.055191    0.000182   \n",
       "4         5         9      0.064562    0.000212   \n",
       "\n",
       "                                            geometry  \n",
       "0  MULTIPOLYGON (((-74.04388 40.69020, -74.04351 ...  \n",
       "1  MULTIPOLYGON (((-73.98864 40.72294, -73.98869 ...  \n",
       "2  MULTIPOLYGON (((-73.99969 40.73856, -73.99684 ...  \n",
       "3  MULTIPOLYGON (((-73.97346 40.71897, -73.97351 ...  \n",
       "4  MULTIPOLYGON (((-73.97161 40.72673, -73.97163 ...  "
      ]
     },
     "execution_count": 16,
     "metadata": {},
     "output_type": "execute_result"
    }
   ],
   "source": [
    "\n",
    "police_pre.head()"
   ]
  },
  {
   "cell_type": "code",
   "execution_count": 17,
   "id": "a6bc5f65",
   "metadata": {},
   "outputs": [],
   "source": [
    "#check rename of column geometry - may not need - can delete \n",
    "police_pre = geopandas.GeoDataFrame(police_pre, geometry='geometry')\n"
   ]
  },
  {
   "cell_type": "code",
   "execution_count": 18,
   "id": "3d103ed0",
   "metadata": {},
   "outputs": [
    {
     "data": {
      "text/plain": [
       "geopandas.geodataframe.GeoDataFrame"
      ]
     },
     "execution_count": 18,
     "metadata": {},
     "output_type": "execute_result"
    }
   ],
   "source": [
    "#Check datatype of police_pre\n",
    "type(police_pre)"
   ]
  },
  {
   "cell_type": "code",
   "execution_count": 19,
   "id": "afb7b5b6",
   "metadata": {},
   "outputs": [
    {
     "data": {
      "text/plain": [
       "geopandas.geoseries.GeoSeries"
      ]
     },
     "execution_count": 19,
     "metadata": {},
     "output_type": "execute_result"
    }
   ],
   "source": [
    "#Check the type of geometry column \n",
    "type(police_pre['geometry'])"
   ]
  },
  {
   "cell_type": "code",
   "execution_count": 20,
   "id": "6c28895a",
   "metadata": {},
   "outputs": [
    {
     "data": {
      "image/png": "[encoded data removed]",
      "text/plain": [
       "<Figure size 864x576 with 1 Axes>"
      ]
     },
     "metadata": {
      "needs_background": "light"
     },
     "output_type": "display_data"
    }
   ],
   "source": [
    "#plot the police precincts \n",
    "police_pre.plot(figsize=(12,8));\n"
   ]
  },
  {
   "cell_type": "code",
   "execution_count": 48,
   "id": "b2d70ed6",
   "metadata": {},
   "outputs": [
    {
     "name": "stdout",
     "output_type": "stream",
     "text": [
      "    Precinct  counts\n",
      "0         75     432\n",
      "1         43     396\n",
      "2         23     347\n",
      "3         40     311\n",
      "4         67     289\n",
      "..       ...     ...\n",
      "72        68      50\n",
      "73        50      45\n",
      "74       123      36\n",
      "75        17      31\n",
      "76        22      24\n",
      "\n",
      "[77 rows x 2 columns]\n"
     ]
    }
   ],
   "source": [
    "#Group by function for what precincts \n",
    "\n",
    "precinct_count = StopAndFriskdf.value_counts(subset=['STOP_LOCATION_PRECINCT']).rename_axis('Precinct').reset_index(name='counts')\n",
    "print (precinct_count)"
   ]
  },
  {
   "cell_type": "code",
   "execution_count": 76,
   "id": "84376c4e",
   "metadata": {},
   "outputs": [
    {
     "data": {
      "text/html": [
       "<div>\n",
       "<style scoped>\n",
       "    .dataframe tbody tr th:only-of-type {\n",
       "        vertical-align: middle;\n",
       "    }\n",
       "\n",
       "    .dataframe tbody tr th {\n",
       "        vertical-align: top;\n",
       "    }\n",
       "\n",
       "    .dataframe thead th {\n",
       "        text-align: right;\n",
       "    }\n",
       "</style>\n",
       "<table border=\"1\" class=\"dataframe\">\n",
       "  <thead>\n",
       "    <tr style=\"text-align: right;\">\n",
       "      <th></th>\n",
       "      <th>Precinct</th>\n",
       "      <th>counts</th>\n",
       "      <th>OBJECTID</th>\n",
       "      <th>SHAPE_Length</th>\n",
       "      <th>SHAPE_Area</th>\n",
       "      <th>geometry</th>\n",
       "    </tr>\n",
       "  </thead>\n",
       "  <tbody>\n",
       "    <tr>\n",
       "      <th>0</th>\n",
       "      <td>75</td>\n",
       "      <td>432</td>\n",
       "      <td>47</td>\n",
       "      <td>0.328220</td>\n",
       "      <td>0.001785</td>\n",
       "      <td>MULTIPOLYGON (((-73.85023 40.62333, -73.85024 ...</td>\n",
       "    </tr>\n",
       "    <tr>\n",
       "      <th>1</th>\n",
       "      <td>43</td>\n",
       "      <td>396</td>\n",
       "      <td>26</td>\n",
       "      <td>0.196838</td>\n",
       "      <td>0.001124</td>\n",
       "      <td>MULTIPOLYGON (((-73.85221 40.83636, -73.85207 ...</td>\n",
       "    </tr>\n",
       "  </tbody>\n",
       "</table>\n",
       "</div>"
      ],
      "text/plain": [
       "   Precinct  counts  OBJECTID  SHAPE_Length  SHAPE_Area  \\\n",
       "0        75     432        47      0.328220    0.001785   \n",
       "1        43     396        26      0.196838    0.001124   \n",
       "\n",
       "                                            geometry  \n",
       "0  MULTIPOLYGON (((-73.85023 40.62333, -73.85024 ...  \n",
       "1  MULTIPOLYGON (((-73.85221 40.83636, -73.85207 ...  "
      ]
     },
     "execution_count": 76,
     "metadata": {},
     "output_type": "execute_result"
    }
   ],
   "source": [
    "#Combine data based off precinct names \n",
    "fulldata = precinct_count.merge(police_pre, left_on=['Precinct'], right_on=['Precinct'])\n",
    "fulldata.head(2)"
   ]
  },
  {
   "cell_type": "code",
   "execution_count": 77,
   "id": "816d14cc",
   "metadata": {},
   "outputs": [],
   "source": [
    "fulldata = fulldata.drop(fulldata.columns[[2, 3, 4]], axis=1)"
   ]
  },
  {
   "cell_type": "code",
   "execution_count": 78,
   "id": "216535d5",
   "metadata": {},
   "outputs": [
    {
     "data": {
      "text/html": [
       "<div>\n",
       "<style scoped>\n",
       "    .dataframe tbody tr th:only-of-type {\n",
       "        vertical-align: middle;\n",
       "    }\n",
       "\n",
       "    .dataframe tbody tr th {\n",
       "        vertical-align: top;\n",
       "    }\n",
       "\n",
       "    .dataframe thead th {\n",
       "        text-align: right;\n",
       "    }\n",
       "</style>\n",
       "<table border=\"1\" class=\"dataframe\">\n",
       "  <thead>\n",
       "    <tr style=\"text-align: right;\">\n",
       "      <th></th>\n",
       "      <th>Precinct</th>\n",
       "      <th>counts</th>\n",
       "      <th>geometry</th>\n",
       "    </tr>\n",
       "  </thead>\n",
       "  <tbody>\n",
       "    <tr>\n",
       "      <th>0</th>\n",
       "      <td>75</td>\n",
       "      <td>432</td>\n",
       "      <td>MULTIPOLYGON (((-73.85023 40.62333, -73.85024 ...</td>\n",
       "    </tr>\n",
       "    <tr>\n",
       "      <th>1</th>\n",
       "      <td>43</td>\n",
       "      <td>396</td>\n",
       "      <td>MULTIPOLYGON (((-73.85221 40.83636, -73.85207 ...</td>\n",
       "    </tr>\n",
       "    <tr>\n",
       "      <th>2</th>\n",
       "      <td>23</td>\n",
       "      <td>347</td>\n",
       "      <td>MULTIPOLYGON (((-73.93519 40.79148, -73.93547 ...</td>\n",
       "    </tr>\n",
       "    <tr>\n",
       "      <th>3</th>\n",
       "      <td>40</td>\n",
       "      <td>311</td>\n",
       "      <td>MULTIPOLYGON (((-73.90210 40.80482, -73.90210 ...</td>\n",
       "    </tr>\n",
       "    <tr>\n",
       "      <th>4</th>\n",
       "      <td>67</td>\n",
       "      <td>289</td>\n",
       "      <td>MULTIPOLYGON (((-73.90755 40.65119, -73.90849 ...</td>\n",
       "    </tr>\n",
       "  </tbody>\n",
       "</table>\n",
       "</div>"
      ],
      "text/plain": [
       "   Precinct  counts                                           geometry\n",
       "0        75     432  MULTIPOLYGON (((-73.85023 40.62333, -73.85024 ...\n",
       "1        43     396  MULTIPOLYGON (((-73.85221 40.83636, -73.85207 ...\n",
       "2        23     347  MULTIPOLYGON (((-73.93519 40.79148, -73.93547 ...\n",
       "3        40     311  MULTIPOLYGON (((-73.90210 40.80482, -73.90210 ...\n",
       "4        67     289  MULTIPOLYGON (((-73.90755 40.65119, -73.90849 ..."
      ]
     },
     "execution_count": 78,
     "metadata": {},
     "output_type": "execute_result"
    }
   ],
   "source": [
    "fulldata.head()"
   ]
  },
  {
   "cell_type": "code",
   "execution_count": null,
   "id": "e1c4ece2",
   "metadata": {},
   "outputs": [],
   "source": []
  },
  {
   "cell_type": "code",
   "execution_count": 65,
   "id": "8ffc76eb",
   "metadata": {},
   "outputs": [],
   "source": [
    "# Set up the color sheme:\n",
    "import mapclassify as mc\n",
    "scheme = mc.Quantiles(fullData['counts'], k=10)"
   ]
  },
  {
   "cell_type": "code",
   "execution_count": 66,
   "id": "9de75416",
   "metadata": {},
   "outputs": [],
   "source": [
    "gdf = geopandas.GeoDataFrame(fullData, crs=\"EPSG:4326\")\n"
   ]
  },
  {
   "cell_type": "code",
   "execution_count": null,
   "id": "7775fc9c",
   "metadata": {},
   "outputs": [],
   "source": []
  }
 ],
 "metadata": {
  "kernelspec": {
   "display_name": "Python 3 (ipykernel)",
   "language": "python",
   "name": "python3"
  },
  "language_info": {
   "codemirror_mode": {
    "name": "ipython",
    "version": 3
   },
   "file_extension": ".py",
   "mimetype": "text/x-python",
   "name": "python",
   "nbconvert_exporter": "python",
   "pygments_lexer": "ipython3",
   "version": "3.9.7"
  }
 },
 "nbformat": 4,
 "nbformat_minor": 5
}
